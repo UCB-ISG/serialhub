{
 "cells": [
  {
   "cell_type": "markdown",
   "metadata": {},
   "source": [
    "# SerialCheck\n",
    "Checking if \"Serial\" is supported..."
   ]
  },
  {
   "cell_type": "code",
   "execution_count": 1,
   "metadata": {},
   "outputs": [],
   "source": [
    "from ipywidgets import widgets;\n",
    "import serialhub;"
   ]
  },
  {
   "cell_type": "code",
   "execution_count": 2,
   "metadata": {},
   "outputs": [
    {
     "data": {
      "application/vnd.jupyter.widget-view+json": {
       "model_id": "eb74dbda4e374a0faa63b47fce6de140",
       "version_major": 2,
       "version_minor": 0
      },
      "text/plain": [
       "SerialHubWidget()"
      ]
     },
     "metadata": {},
     "output_type": "display_data"
    }
   ],
   "source": [
    "W = serialhub.SerialHubWidget();\n",
    "W"
   ]
  },
  {
   "cell_type": "code",
   "execution_count": 3,
   "metadata": {},
   "outputs": [],
   "source": [
    "W.value = 'New value 2'"
   ]
  },
  {
   "cell_type": "code",
   "execution_count": 5,
   "metadata": {},
   "outputs": [
    {
     "data": {
      "application/javascript": [
       "let $ = Backbone.$;\n",
       "let W = $(\"div.jupyter-widgets > div.serialhub-widget\")\n",
       "let w = $(\"div.serialhub-widget\")\n",
       "console.log(w[0].innerText, W[0].innerText, W)\n"
      ],
      "text/plain": [
       "<IPython.core.display.Javascript object>"
      ]
     },
     "metadata": {},
     "output_type": "display_data"
    }
   ],
   "source": [
    "%%javascript\n",
    "let $ = Backbone.$;\n",
    "let W = $(\"div.jupyter-widgets > div.serialhub-widget\")\n",
    "let w = $(\"div.serialhub-widget\")\n",
    "console.log(w[0].innerText, W[0].innerText, W)"
   ]
  },
  {
   "cell_type": "code",
   "execution_count": null,
   "metadata": {},
   "outputs": [],
   "source": [
    "W.comm.__dict__"
   ]
  },
  {
   "cell_type": "code",
   "execution_count": 6,
   "metadata": {},
   "outputs": [
    {
     "data": {
      "application/javascript": [
       "let $ = Backbone.$;\n",
       "if ('serial' in navigator) {\n",
       "    const serialCheck = $('#SerialCheck + p')[0];\n",
       "    serialCheck.innerText = 'navigator.serial IS supported.';\n",
       "    const filter = { usbVendorId: 0x2047 }; // TI proper ; is also 0x0451 for \"TI HUB\"\n",
       "    let port = navigator.serial.requestPort( {filters: [filter]} );\n",
       "    console.log(port);\n",
       "}\n"
      ],
      "text/plain": [
       "<IPython.core.display.Javascript object>"
      ]
     },
     "metadata": {},
     "output_type": "display_data"
    }
   ],
   "source": [
    "%%javascript\n",
    "let $ = Backbone.$;\n",
    "if ('serial' in navigator) {\n",
    "    const serialCheck = $('#SerialCheck + p')[0];\n",
    "    serialCheck.innerText = 'navigator.serial IS supported.';\n",
    "    const filter = { usbVendorId: 0x2047 }; // TI proper ; is also 0x0451 for \"TI HUB\"\n",
    "    let port = navigator.serial.requestPort( {filters: [filter]} );\n",
    "    console.log(port);\n",
    "}"
   ]
  },
  {
   "cell_type": "code",
   "execution_count": null,
   "metadata": {},
   "outputs": [],
   "source": [
    "from ipywidgets import widgets;\n",
    "\n",
    "print(widgets.Widget.observe.__doc__)"
   ]
  },
  {
   "cell_type": "code",
   "execution_count": 8,
   "metadata": {},
   "outputs": [
    {
     "data": {
      "application/vnd.jupyter.widget-view+json": {
       "model_id": "331d35291afc4099bf6b075d0c265f76",
       "version_major": 2,
       "version_minor": 0
      },
      "text/plain": [
       "IntSlider(value=0)"
      ]
     },
     "metadata": {},
     "output_type": "display_data"
    }
   ],
   "source": [
    "import string;\n",
    "int_range = widgets.IntSlider()\n",
    "\n",
    "display(int_range)\n",
    "\n",
    "def on_value_change(change):\n",
    "    W.value = str(change['new'])\n",
    "    #with output2:\n",
    "    #    print(change['new'])\n",
    "\n",
    "int_range.observe(on_value_change, names='value')"
   ]
  },
  {
   "cell_type": "code",
   "execution_count": null,
   "metadata": {},
   "outputs": [],
   "source": [
    "print(W.get_manager_state())"
   ]
  },
  {
   "cell_type": "code",
   "execution_count": 10,
   "metadata": {},
   "outputs": [
    {
     "data": {
      "application/javascript": [
       "console.log(Backbone.$(\".custom-widget\"))\n"
      ],
      "text/plain": [
       "<IPython.core.display.Javascript object>"
      ]
     },
     "metadata": {},
     "output_type": "display_data"
    }
   ],
   "source": [
    "%%javascript\n",
    "console.log(Backbone.$(\".custom-widget\"))"
   ]
  },
  {
   "cell_type": "code",
   "execution_count": 11,
   "metadata": {},
   "outputs": [
    {
     "data": {
      "application/javascript": [
       "console.log(self,\"test2\")"
      ],
      "text/plain": [
       "<IPython.core.display.Javascript object>"
      ]
     },
     "execution_count": 11,
     "metadata": {},
     "output_type": "execute_result"
    }
   ],
   "source": [
    "from IPython.display import Javascript;\n",
    "J = Javascript('console.log(self,\"test2\")');\n",
    "J"
   ]
  },
  {
   "cell_type": "code",
   "execution_count": null,
   "metadata": {},
   "outputs": [],
   "source": []
  }
 ],
 "metadata": {
  "kernelspec": {
   "display_name": "Python 3",
   "language": "python",
   "name": "python3"
  },
  "language_info": {
   "codemirror_mode": {
    "name": "ipython",
    "version": 3
   },
   "file_extension": ".py",
   "mimetype": "text/x-python",
   "name": "python",
   "nbconvert_exporter": "python",
   "pygments_lexer": "ipython3",
   "version": "3.7.6"
  }
 },
 "nbformat": 4,
 "nbformat_minor": 4
}
